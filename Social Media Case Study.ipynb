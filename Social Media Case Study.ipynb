{
 "cells": [
  {
   "attachments": {},
   "cell_type": "markdown",
   "metadata": {},
   "source": [
    "### **DATA ANALYST INTERN ASSESSMENT** -Matthew Ro"
   ]
  },
  {
   "attachments": {},
   "cell_type": "markdown",
   "metadata": {},
   "source": [
    "    All of the information is pulled from the dataset: social_data.xlsx \n",
    "    Written SQL queries and Tableau visualizations can be found in the \"(Mro)EG-DA-INTERN-ASSESSMENT\" repository. There are some entries which greatly influence the data (when finding averages by posts), such as 3 entries posted on: 01-05, 01-19, 03-10 on FBPAGE. It will be noted when these variables change the data in a significant way but otherwise will remain.\n",
    "    \n",
    "     We begin by cleaning up the data and removing any duplicates entries. This leaves us with 3247 unique entries/posts."
   ]
  },
  {
   "attachments": {},
   "cell_type": "markdown",
   "metadata": {},
   "source": [
    "##### *Q1. What is the typical engagement rate we can expect? What's the likelihood that we can achieve a 15% engagement rate?*"
   ]
  },
  {
   "attachments": {},
   "cell_type": "markdown",
   "metadata": {},
   "source": [
    "**ANS**: \n",
    "\n",
    "The engagment rate (ER) by impressions, is given by \n",
    "\n",
    "$$ER = \\frac{\\sum(\\text{Total Engagements}) }{\\sum(\\text{Total Impressions})} \\times 100$$\n",
    "\n",
    "By our data, we have \n",
    "$$ ER = \\frac{3222111}{37847591} \\times 100 \\approx 8.51\\% $$\n",
    "\n",
    "The average engagement rate by post is given by,\n",
    "\n",
    "$$ER_{avg} = \\frac{\\sum(\\text{ER})}{\\text{Total number of posts}} = \\frac{14221.34}{3244} \\approx 4.41\\%$$ \n",
    "\n",
    "According to the data, there were 3 entries considered as \"outliers\" in the data; these outliers gave unrealistic engagement rates and influenced the average engagement rate in a nonnegligible way. Thus they were removed when calculating $ER_{avg}$. So the typical engagement rate we can expect is about **4.41%**. \n",
    "\n",
    "\n",
    "If we consider the overall trend of the engagement rates by month, we see that from January to March, the engagement rate had decreased from 10.4% to 7.6%. The visualization can be seen [here](https://public.tableau.com/app/profile/matthew.ro6482/viz/DAINTERNASSESSMENT/Dashboard1). More data is needed to show a more accurate growth trend model but this overall decrease in engagement rate **does not support** a potential 15% engagement rate being achieved; it is unlikely that the engagement rate will essentially double from the most recent month. "
   ]
  },
  {
   "attachments": {},
   "cell_type": "markdown",
   "metadata": {},
   "source": [
    "##### *Q2. Does day of the week and time of posting affect engagement rates?*"
   ]
  },
  {
   "attachments": {},
   "cell_type": "markdown",
   "metadata": {},
   "source": [
    "**ANS**: \n",
    "\n",
    "Taking a look at our interactive visualization [charts](https://public.tableau.com/app/profile/matthew.ro6482/viz/DAINTERNASSESSMENT/Dashboard1)\n",
    "\n",
    " \n",
    "We can create a line graph illustrating the engagement rate across each weekday. We observe that Sundays, Tuesdays, Thursdays, and Fridays are usually days of higher engagement rates. Monday, Wednesday, and Saturday are days of lower engagement rates. In partiuclar, our line graph indicates that the engagement rate for Sunday is typically the greatest and Satuday being the lowest. By another visualization, we can see the average engagement rate for each hour. Manipulating our engagement rate / hour chart indicates there are much higher peaks of engagement found early in the morning and towards the end of the day rather than the mid day time frame. Then for each weekday the highest and lowest ER can be seen as: \n",
    "\n",
    "| Weekday   | Hour | Highest ER | Hour | Lowest ER |\n",
    "| --------  | ---- | ---------- | ---- | --------- |\n",
    "| Sunday    | 20   | 38.12%     | 14   | 0.13%     | \n",
    "| Monday    | 13   | 13.36%     | 12   | 1.91%     | \n",
    "| Tuesday   | 5    | 50.45%     | 17   | 1.97      | \n",
    "| Wednesday | 5    | 15.17%     | 4    | 0.43%     | \n",
    "| Thursday  | 6    | 13.60%     | 3    | 1.88%     | \n",
    "| Friday    | 6    | 15.74%     | 19   | 0.49%     | \n",
    "| Saturday  | 9    | 13.50%     | 19   | 0.93%     |  \n",
    "\n",
    "Therefore we can conclude day of the week and time of posting do affect engagement rates. Posting in the morning (<= 12) and on Sundays or Tuesdays will yield the highest engagement rates. \n"
   ]
  },
  {
   "attachments": {},
   "cell_type": "markdown",
   "metadata": {},
   "source": [
    "##### *Q3. How are our game titles doing in terms of social performance? Is there a specific game we should focus more on or less?*"
   ]
  },
  {
   "attachments": {},
   "cell_type": "markdown",
   "metadata": {},
   "source": [
    "Looking at the field 'Account', we see that there are 3 games: CSGO, DOTA2, and Valorant.\n",
    "We omit data for 'content creators' and 'general' values since they are not games. "
   ]
  },
  {
   "attachments": {},
   "cell_type": "markdown",
   "metadata": {},
   "source": [
    "**ANS**: \n",
    "\n",
    " We find that DOTA2 yields the highest engagement rate at about 6.65%.  Both Valorant and CSGO follow next with both having around a 4% engagement rate (4.00% and 3.98% respectively). DOTA2 is doing very well and no particular changes are needed; across the 3 months, the data is very consistent. CSGO, despite generating high numbers, has seen a decrease in both total impressions and total engagements. We can calculate the total impressions percentage change between each month by \n",
    " \n",
    " $$\\frac{\\text{Total Impressions}_{new} - \\text{Total Impressions}_{original}}{\\text{Total Impressions}_{original}} \\times 100 $$\n",
    "\n",
    "  From January to March, CSGO has had a 41.34% decrease in total impressions and a 40.32% decrease in total engagements. The highest change can be seen from January to Feburary where CSGO's engagement rate had dropped from 4.1% to 3.5% with a 52.55% decrease in total impressions. There are 83 posts on average per month for CSGO. More data is required to conclusively make a decision yet we can hypothesize that CSGO's social performance has little room to grow. The numbers have or will eventually plateau with an engagement rate around <= 4%.  \n",
    " \n",
    " **Valorant** should be a main point of focus.\n",
    " In 2 months we see Valorant has had a 706.83% increase in total impressions and a 533.07% increase in total engagements. There are only 51 unique posts and the game seems promising enough to potentially obtain an even higher engagement rate than 4%. "
   ]
  },
  {
   "attachments": {},
   "cell_type": "markdown",
   "metadata": {},
   "source": [
    "##### *Q4. What media type performs the best?* "
   ]
  },
  {
   "attachments": {},
   "cell_type": "markdown",
   "metadata": {},
   "source": [
    "We will determine which media type performs the best based on which media type has the highest engagement rate and average engagement rate per post. (We omit the entries which have over 100% ER)"
   ]
  },
  {
   "attachments": {},
   "cell_type": "markdown",
   "metadata": {},
   "source": [
    "**ANS**: \n",
    "\n",
    "**Photos** are the best performing media type with an engagement rate of about 8.86%. We see an obvious outlier in the data where 'Album' has an engagement rate of 40%. This is due to the fact that there are only 2 entries for an album media type and thus should not be considered. We can apply similar logic for the 'Mixed' and 'Carousel' media types as they have fewer than 10 posts. Videos and text perform well with engagement rates around 8.11% and 7.93% respectively. \n",
    "\n",
    "| Media Type | ER    | AVG ER | Number of Posts | \n",
    "| ---------- | ---   | ------ | --------------- | \n",
    "| Album      | 40%   | 20%    | 2               | \n",
    "| Photo      | 8.86% | 5.06%  | 1393            | \n",
    "| Video      | 8.11% | 4.94%  | 958             | \n",
    "| Text       | 7.93% | 2.82%  | 792             |\n",
    "| Mixed      | 7.38% | 10.77% | 5               | \n",
    "| Carousel   | 4.06% | 3.78%  | 9               |\n",
    "| Link       | 0.95% | 1.80   | 85              | \n"
   ]
  },
  {
   "attachments": {},
   "cell_type": "markdown",
   "metadata": {},
   "source": [
    "##### *Q5. What is our best performing campaign?*"
   ]
  },
  {
   "attachments": {},
   "cell_type": "markdown",
   "metadata": {},
   "source": [
    "We will determine which campaign performs the best based on which campaign has the highest engagement rate and average engagement rate per post. (We omit the entries which have over 100% ER)"
   ]
  },
  {
   "attachments": {},
   "cell_type": "markdown",
   "metadata": {},
   "source": [
    "**ANS**: \n",
    "\n",
    "If we were to identify a single specific campaign name, then \"Community Engagement\" would be the best performing campaign at 8.38% engagement rate with the highest average engagement rate of about 5.52% per post.   \n",
    "However, among the 4 campaigns, \"N/A\" has a very high 14% engagement rate and averaging 3.85% engagement rate per post. N/A is an arbitrary campaign name which may include more than one different campaigns or a collection of different entries which may not be considered campaigns at all. Hence, we will state that **Community Engagement** is the best performing campaign. \n",
    "\n",
    "| Campaign Name | ER    | AVG ER | Number of Posts | \n",
    "| ------------- | ---   | ------ | --------------- | \n",
    "| N/A           | 13.99%   | 3.85%  | 1281         | \n",
    "| Community Engagement  | 8.38%  | 5.52% | 1391    | \n",
    "| Evergreen     | 3.23% | 3.46%  | 163             | \n",
    "| Evil Exhibited       | 3.23%    | 2.74%  | 409   |\n"
   ]
  },
  {
   "attachments": {},
   "cell_type": "markdown",
   "metadata": {},
   "source": [
    "##### *Q6. Define out a posting strategy for our social channels based on your discoveries.*"
   ]
  },
  {
   "attachments": {},
   "cell_type": "markdown",
   "metadata": {},
   "source": [
    "**ANS**: \n",
    "\n",
    "Based on what we found regarding how day and time affect engagement rates, we should be posting early in the mornings and towards the end of the day for each and every day. There should not be a day when something is not posted. The engagement rate typically appears to dip during the midday hours, so less relevant pieces of content should be posted then. If we have content or news that our audience is more likely to be interested in (e.g., launching a new product, signing a new player, etc.), we should be posting that content or news during the early mornings of Sunday or Tuesday to achieve the maximum engagement rate. Avoid posting this type of news on Monday or Saturday, which are days of minimum engagement rates. We should be posting in the form of photos, videos, text, or any mix of these media types. This is because these forms of media are quick and simple to interact with. Over half of our total impressions come from Twitter and Facebook. Keep posting on these platforms, but do not neglect the others. TikTok, YouTube, and Instagram are all great platforms that can easily increase the number of our impressions by just posting more.\n",
    "\n",
    "\n",
    "Additionally, Valorant needs to be the center piece of content. 51 posts is not enough. Valorant has the potential to reach a greater engagement rate than what it currently has and improve our overall numbers. On the other hand, there is no point in giving CSGO more resources when the numbers do not support a steady growth. We can redistribute our resources to aid the social performance of Valorant and DOTA2 and focusing less on CSGO. \n",
    "\n",
    "Focus on community engagement campaigns; they are effective and generate the highest average engagement rates per post.\n",
    "\n"
   ]
  },
  {
   "attachments": {},
   "cell_type": "markdown",
   "metadata": {},
   "source": [
    "##### *Q7. What suggestions would you give to the social media team if they want to expand their presence?* "
   ]
  },
  {
   "attachments": {},
   "cell_type": "markdown",
   "metadata": {},
   "source": [
    "**ANS**"
   ]
  },
  {
   "attachments": {},
   "cell_type": "markdown",
   "metadata": {},
   "source": [
    "Know your audience and social media platforms: \n",
    " - Evil Geniuses is a professional gaming organization. Gaming and esports in general are easily marketable to younger audiences. Although we cannot say from the given dataset alone, a simple Google search into the age demographic on social media platforms such as YouTube, TikTok, Twitter, and Instagram shows that there is a large population of young users. Creating short and consumable forms of content is very easy on these platforms. TikTok is made for generating large impressions quickly and may be the most useful in expanding outreach potential because there is already a significant audience for gaming. Look at the data on which ads and marketing strategies work for which age groups. Platforms like Facebook, Twitter, Instagram, etc. already have established ad models, so following those models may be useful if not already doing so. If a professional message is needed, then LinkedIn can be used as well. Some companies may or may not be able to market themselves on TikTok, but a professional gaming organization has access to all of these platforms.\n",
    "\n",
    "Pay attention to trends and which games are popular:\n",
    "- Valorant is a game that is very popular and is consistently one of the top streaming games on Twitch. In the dataset, there were only 3 games. Among those 3 Valorant had much smaller numbers which do not accurately represent how popular the game is. Looking at streaming viewership shows that more people are watching Valorant than CSGO or DOTA2 on average. Therefore, making content relevant to popular games/trends will increase the outreach potential. \n",
    "\n",
    "Use players and content creators: \n",
    "- In recent times, gaming organizations sponsoring popular streamers and personalities have become more common. Acquiring a popular streamer, player, etc. (we can just call them \"personality\") will work in the social media team's favor. If the personality already has an established following independent of the organization, then sponsoring them will introduce that following to the organization. An example of this would be when Sentinels brought in Sacy and Pancada to their Valorant team. The Sentinels social media team then posted content appealing to the Brazilian community, which introduced many Brazilian fans to Sentinels. A goal of personality is also to expand their own brand, but if they are sponsored, they will be effectively expanding the organization's brand as well (doing the social media team's work). In other words, the growth of a personality and an organization is directly proportional. \n",
    "\n",
    "Do not be afraid to experiment:\n",
    "- The dataset only shows 4 different types of campaigns. While this is a hypothetical dataset, there could be potential for more. Community engagement is very important, as the funding of esports would not be sufficient without the fans. Finding new and different ways to interact with the community creates a stronger fanbase. Twitter/IG LIVE, giveaways, podcasts, and other options can be viable options to grow an online presence. "
   ]
  },
  {
   "attachments": {},
   "cell_type": "markdown",
   "metadata": {},
   "source": []
  }
 ],
 "metadata": {
  "language_info": {
   "name": "python"
  },
  "orig_nbformat": 4
 },
 "nbformat": 4,
 "nbformat_minor": 2
}
